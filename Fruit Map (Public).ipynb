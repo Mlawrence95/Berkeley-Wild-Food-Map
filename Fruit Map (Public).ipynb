{
 "cells": [
  {
   "cell_type": "code",
   "execution_count": 1,
   "metadata": {},
   "outputs": [],
   "source": [
    "import pandas as pd\n",
    "import numpy as np\n",
    "import matplotlib.pyplot as plt\n",
    "import seaborn as sns\n",
    "\n",
    "import plotly"
   ]
  },
  {
   "cell_type": "code",
   "execution_count": 13,
   "metadata": {},
   "outputs": [],
   "source": [
    "\n",
    "plotly.tools.set_credentials_file(username='XXXXXXX', api_key='XXXXXXX')\n",
    "mapbox_access_token = 'XXXXXXX'"
   ]
  },
  {
   "cell_type": "code",
   "execution_count": 14,
   "metadata": {},
   "outputs": [],
   "source": [
    "satherGate =  [37.870219, -122.259491]"
   ]
  },
  {
   "cell_type": "code",
   "execution_count": 15,
   "metadata": {},
   "outputs": [
    {
     "data": {
      "text/html": [
       "<div>\n",
       "<style scoped>\n",
       "    .dataframe tbody tr th:only-of-type {\n",
       "        vertical-align: middle;\n",
       "    }\n",
       "\n",
       "    .dataframe tbody tr th {\n",
       "        vertical-align: top;\n",
       "    }\n",
       "\n",
       "    .dataframe thead th {\n",
       "        text-align: right;\n",
       "    }\n",
       "</style>\n",
       "<table border=\"1\" class=\"dataframe\">\n",
       "  <thead>\n",
       "    <tr style=\"text-align: right;\">\n",
       "      <th></th>\n",
       "      <th>Type</th>\n",
       "      <th>Location</th>\n",
       "      <th>LatLong</th>\n",
       "    </tr>\n",
       "  </thead>\n",
       "  <tbody>\n",
       "    <tr>\n",
       "      <th>0</th>\n",
       "      <td>Apple</td>\n",
       "      <td>Strada</td>\n",
       "      <td>37.869169, -122.254956</td>\n",
       "    </tr>\n",
       "    <tr>\n",
       "      <th>1</th>\n",
       "      <td>Blackberry</td>\n",
       "      <td>Campanile</td>\n",
       "      <td>37.872359, -122.258168</td>\n",
       "    </tr>\n",
       "    <tr>\n",
       "      <th>2</th>\n",
       "      <td>Blackberry</td>\n",
       "      <td>Strawberry Creek</td>\n",
       "      <td>37.872219, -122.262560</td>\n",
       "    </tr>\n",
       "    <tr>\n",
       "      <th>3</th>\n",
       "      <td>Blackberry</td>\n",
       "      <td>VLSB Bridge</td>\n",
       "      <td>37.872444, -122.262061</td>\n",
       "    </tr>\n",
       "    <tr>\n",
       "      <th>4</th>\n",
       "      <td>Pomegranate</td>\n",
       "      <td>Parker and Ellsworth</td>\n",
       "      <td>37.862825, -122.262786</td>\n",
       "    </tr>\n",
       "  </tbody>\n",
       "</table>\n",
       "</div>"
      ],
      "text/plain": [
       "          Type              Location                 LatLong\n",
       "0        Apple                Strada  37.869169, -122.254956\n",
       "1   Blackberry             Campanile  37.872359, -122.258168\n",
       "2   Blackberry      Strawberry Creek  37.872219, -122.262560\n",
       "3   Blackberry           VLSB Bridge  37.872444, -122.262061\n",
       "4  Pomegranate  Parker and Ellsworth  37.862825, -122.262786"
      ]
     },
     "execution_count": 15,
     "metadata": {},
     "output_type": "execute_result"
    }
   ],
   "source": [
    "fruit = pd.read_csv(\"Wild Edibles in Berkeley.csv\")\n",
    "fruit = fruit.dropna()\n",
    "fruit.head()"
   ]
  },
  {
   "cell_type": "code",
   "execution_count": 16,
   "metadata": {},
   "outputs": [],
   "source": [
    "uniqueFruit = fruit['Type'].unique()"
   ]
  },
  {
   "cell_type": "code",
   "execution_count": 17,
   "metadata": {},
   "outputs": [],
   "source": [
    "def reformatLatLong(LatLong):\n",
    "    return LatLong.replace(' ','').split(',')"
   ]
  },
  {
   "cell_type": "code",
   "execution_count": 18,
   "metadata": {},
   "outputs": [],
   "source": [
    "fruit['Coordinate'] = fruit['LatLong'].apply(reformatLatLong)"
   ]
  },
  {
   "cell_type": "code",
   "execution_count": 19,
   "metadata": {},
   "outputs": [
    {
     "data": {
      "text/html": [
       "<div>\n",
       "<style scoped>\n",
       "    .dataframe tbody tr th:only-of-type {\n",
       "        vertical-align: middle;\n",
       "    }\n",
       "\n",
       "    .dataframe tbody tr th {\n",
       "        vertical-align: top;\n",
       "    }\n",
       "\n",
       "    .dataframe thead th {\n",
       "        text-align: right;\n",
       "    }\n",
       "</style>\n",
       "<table border=\"1\" class=\"dataframe\">\n",
       "  <thead>\n",
       "    <tr style=\"text-align: right;\">\n",
       "      <th></th>\n",
       "      <th>Type</th>\n",
       "      <th>Location</th>\n",
       "      <th>LatLong</th>\n",
       "      <th>Coordinate</th>\n",
       "    </tr>\n",
       "  </thead>\n",
       "  <tbody>\n",
       "    <tr>\n",
       "      <th>0</th>\n",
       "      <td>Apple</td>\n",
       "      <td>Strada</td>\n",
       "      <td>37.869169, -122.254956</td>\n",
       "      <td>[37.869169, -122.254956]</td>\n",
       "    </tr>\n",
       "    <tr>\n",
       "      <th>1</th>\n",
       "      <td>Blackberry</td>\n",
       "      <td>Campanile</td>\n",
       "      <td>37.872359, -122.258168</td>\n",
       "      <td>[37.872359, -122.258168]</td>\n",
       "    </tr>\n",
       "    <tr>\n",
       "      <th>2</th>\n",
       "      <td>Blackberry</td>\n",
       "      <td>Strawberry Creek</td>\n",
       "      <td>37.872219, -122.262560</td>\n",
       "      <td>[37.872219, -122.262560]</td>\n",
       "    </tr>\n",
       "    <tr>\n",
       "      <th>3</th>\n",
       "      <td>Blackberry</td>\n",
       "      <td>VLSB Bridge</td>\n",
       "      <td>37.872444, -122.262061</td>\n",
       "      <td>[37.872444, -122.262061]</td>\n",
       "    </tr>\n",
       "    <tr>\n",
       "      <th>4</th>\n",
       "      <td>Pomegranate</td>\n",
       "      <td>Parker and Ellsworth</td>\n",
       "      <td>37.862825, -122.262786</td>\n",
       "      <td>[37.862825, -122.262786]</td>\n",
       "    </tr>\n",
       "  </tbody>\n",
       "</table>\n",
       "</div>"
      ],
      "text/plain": [
       "          Type              Location                 LatLong  \\\n",
       "0        Apple                Strada  37.869169, -122.254956   \n",
       "1   Blackberry             Campanile  37.872359, -122.258168   \n",
       "2   Blackberry      Strawberry Creek  37.872219, -122.262560   \n",
       "3   Blackberry           VLSB Bridge  37.872444, -122.262061   \n",
       "4  Pomegranate  Parker and Ellsworth  37.862825, -122.262786   \n",
       "\n",
       "                 Coordinate  \n",
       "0  [37.869169, -122.254956]  \n",
       "1  [37.872359, -122.258168]  \n",
       "2  [37.872219, -122.262560]  \n",
       "3  [37.872444, -122.262061]  \n",
       "4  [37.862825, -122.262786]  "
      ]
     },
     "execution_count": 19,
     "metadata": {},
     "output_type": "execute_result"
    }
   ],
   "source": [
    "fruit.head()"
   ]
  },
  {
   "cell_type": "code",
   "execution_count": 20,
   "metadata": {},
   "outputs": [],
   "source": [
    "fruit['Lat'] = fruit['Coordinate'].apply(lambda x: x[0])\n",
    "fruit['Long'] = fruit['Coordinate'].apply(lambda x: x[1])"
   ]
  },
  {
   "cell_type": "code",
   "execution_count": 21,
   "metadata": {},
   "outputs": [
    {
     "data": {
      "text/html": [
       "<div>\n",
       "<style scoped>\n",
       "    .dataframe tbody tr th:only-of-type {\n",
       "        vertical-align: middle;\n",
       "    }\n",
       "\n",
       "    .dataframe tbody tr th {\n",
       "        vertical-align: top;\n",
       "    }\n",
       "\n",
       "    .dataframe thead th {\n",
       "        text-align: right;\n",
       "    }\n",
       "</style>\n",
       "<table border=\"1\" class=\"dataframe\">\n",
       "  <thead>\n",
       "    <tr style=\"text-align: right;\">\n",
       "      <th></th>\n",
       "      <th>Type</th>\n",
       "      <th>Location</th>\n",
       "      <th>LatLong</th>\n",
       "      <th>Coordinate</th>\n",
       "      <th>Lat</th>\n",
       "      <th>Long</th>\n",
       "    </tr>\n",
       "  </thead>\n",
       "  <tbody>\n",
       "    <tr>\n",
       "      <th>0</th>\n",
       "      <td>Apple</td>\n",
       "      <td>Strada</td>\n",
       "      <td>37.869169, -122.254956</td>\n",
       "      <td>[37.869169, -122.254956]</td>\n",
       "      <td>37.869169</td>\n",
       "      <td>-122.254956</td>\n",
       "    </tr>\n",
       "    <tr>\n",
       "      <th>1</th>\n",
       "      <td>Blackberry</td>\n",
       "      <td>Campanile</td>\n",
       "      <td>37.872359, -122.258168</td>\n",
       "      <td>[37.872359, -122.258168]</td>\n",
       "      <td>37.872359</td>\n",
       "      <td>-122.258168</td>\n",
       "    </tr>\n",
       "    <tr>\n",
       "      <th>2</th>\n",
       "      <td>Blackberry</td>\n",
       "      <td>Strawberry Creek</td>\n",
       "      <td>37.872219, -122.262560</td>\n",
       "      <td>[37.872219, -122.262560]</td>\n",
       "      <td>37.872219</td>\n",
       "      <td>-122.262560</td>\n",
       "    </tr>\n",
       "    <tr>\n",
       "      <th>3</th>\n",
       "      <td>Blackberry</td>\n",
       "      <td>VLSB Bridge</td>\n",
       "      <td>37.872444, -122.262061</td>\n",
       "      <td>[37.872444, -122.262061]</td>\n",
       "      <td>37.872444</td>\n",
       "      <td>-122.262061</td>\n",
       "    </tr>\n",
       "    <tr>\n",
       "      <th>4</th>\n",
       "      <td>Pomegranate</td>\n",
       "      <td>Parker and Ellsworth</td>\n",
       "      <td>37.862825, -122.262786</td>\n",
       "      <td>[37.862825, -122.262786]</td>\n",
       "      <td>37.862825</td>\n",
       "      <td>-122.262786</td>\n",
       "    </tr>\n",
       "  </tbody>\n",
       "</table>\n",
       "</div>"
      ],
      "text/plain": [
       "          Type              Location                 LatLong  \\\n",
       "0        Apple                Strada  37.869169, -122.254956   \n",
       "1   Blackberry             Campanile  37.872359, -122.258168   \n",
       "2   Blackberry      Strawberry Creek  37.872219, -122.262560   \n",
       "3   Blackberry           VLSB Bridge  37.872444, -122.262061   \n",
       "4  Pomegranate  Parker and Ellsworth  37.862825, -122.262786   \n",
       "\n",
       "                 Coordinate        Lat         Long  \n",
       "0  [37.869169, -122.254956]  37.869169  -122.254956  \n",
       "1  [37.872359, -122.258168]  37.872359  -122.258168  \n",
       "2  [37.872219, -122.262560]  37.872219  -122.262560  \n",
       "3  [37.872444, -122.262061]  37.872444  -122.262061  \n",
       "4  [37.862825, -122.262786]  37.862825  -122.262786  "
      ]
     },
     "execution_count": 21,
     "metadata": {},
     "output_type": "execute_result"
    }
   ],
   "source": [
    "fruit.head()"
   ]
  },
  {
   "cell_type": "code",
   "execution_count": 22,
   "metadata": {},
   "outputs": [
    {
     "data": {
      "text/plain": [
       "Text(0.5,1,'Edible Plants Found in Berkeley')"
      ]
     },
     "execution_count": 22,
     "metadata": {},
     "output_type": "execute_result"
    },
    {
     "data": {
      "image/png": "[encoded data removed]",
      "text/plain": [
       "<Figure size 432x288 with 1 Axes>"
      ]
     },
     "metadata": {},
     "output_type": "display_data"
    }
   ],
   "source": [
    "sns.countplot(x='Type',data=fruit)\n",
    "plt.xticks(rotation=45)\n",
    "plt.xlabel('Type of Edible')\n",
    "plt.title('Edible Plants Found in Berkeley')"
   ]
  },
  {
   "cell_type": "code",
   "execution_count": 23,
   "metadata": {},
   "outputs": [],
   "source": [
    "import plotly.plotly as py\n",
    "import plotly.graph_objs as go\n",
    "\n",
    "\n",
    "data = []\n",
    "for myFruit in uniqueFruit:\n",
    "    \n",
    "    relevantFruit = fruit[fruit['Type'] == myFruit]\n",
    "    data += [\n",
    "    go.Scattermapbox(\n",
    "        lat=relevantFruit['Lat'],\n",
    "        lon=relevantFruit['Long'],\n",
    "        name = myFruit,\n",
    "        mode='markers',\n",
    "        marker=dict(\n",
    "            size=9\n",
    "        ),\n",
    "        text=myFruit,\n",
    "    )\n",
    "]"
   ]
  },
  {
   "cell_type": "code",
   "execution_count": 24,
   "metadata": {},
   "outputs": [
    {
     "data": {
      "text/html": [
       "<iframe id=\"igraph\" scrolling=\"no\" style=\"border:none;\" seamless=\"seamless\" src=\"https://plot.ly/~mlawrence95/4.embed\" height=\"525px\" width=\"100%\"></iframe>"
      ],
      "text/plain": [
       "<plotly.tools.PlotlyDisplay object>"
      ]
     },
     "execution_count": 24,
     "metadata": {},
     "output_type": "execute_result"
    }
   ],
   "source": [
    "layout = go.Layout(\n",
    "    title='Edibles Near UC Berkeley',\n",
    "    autosize=True,\n",
    "    hovermode='closest',\n",
    "    mapbox=dict(\n",
    "        accesstoken=mapbox_access_token,\n",
    "        bearing=0,\n",
    "        center=dict(\n",
    "            lat=satherGate[0],\n",
    "            lon=satherGate[1]\n",
    "        ),\n",
    "        pitch=0,\n",
    "        zoom=13\n",
    "    ),\n",
    ")\n",
    "\n",
    "fig = dict(data=data, layout=layout)\n",
    "py.iplot(fig, filename='Edibles in Berkeley')"
   ]
  }
 ],
 "metadata": {
  "kernelspec": {
   "display_name": "Python 3",
   "language": "python",
   "name": "python3"
  },
  "language_info": {
   "codemirror_mode": {
    "name": "ipython",
    "version": 3
   },
   "file_extension": ".py",
   "mimetype": "text/x-python",
   "name": "python",
   "nbconvert_exporter": "python",
   "pygments_lexer": "ipython3",
   "version": "3.6.4"
  }
 },
 "nbformat": 4,
 "nbformat_minor": 2
}
